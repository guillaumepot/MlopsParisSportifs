{
 "cells": [
  {
   "cell_type": "markdown",
   "metadata": {},
   "source": [
    "## Get datas (scrap)"
   ]
  },
  {
   "cell_type": "markdown",
   "metadata": {},
   "source": [
    "### Match history"
   ]
  },
  {
   "cell_type": "code",
   "execution_count": 1,
   "metadata": {},
   "outputs": [
    {
     "data": {
      "text/plain": [
       "{'message': 'Match results history datas have been downloaded and sorted successfully'}"
      ]
     },
     "execution_count": 1,
     "metadata": {},
     "output_type": "execute_result"
    }
   ],
   "source": [
    "from scrap_match_history import *\n",
    "from common_variables import main_leagues_current_season_url, main_leagues_filename, main_leagues_dictionary\n",
    "url = main_leagues_current_season_url\n",
    "filename = main_leagues_filename\n",
    "dictionary = main_leagues_dictionary\n",
    "\n",
    "scrapMatchHistoryAndSortDatas(url, filename, dictionary)"
   ]
  },
  {
   "cell_type": "markdown",
   "metadata": {},
   "source": [
    "### Odds scraping"
   ]
  },
  {
   "cell_type": "code",
   "execution_count": 2,
   "metadata": {},
   "outputs": [
    {
     "name": "stdout",
     "output_type": "stream",
     "text": [
      "{'Date': '13/04/2024', 'Home Team': 'Newcastle', 'Away Team': 'Tottenham', 'Odds 1': '2.75', 'Odds X': '3.96', 'Odds 2': '2.40'}\n",
      "{'Date': '13/04/2024', 'Home Team': 'Brentford', 'Away Team': 'Sheffield Utd', 'Odds 1': '1.44', 'Odds X': '5.14', 'Odds 2': '6.82'}\n",
      "{'Date': '13/04/2024', 'Home Team': 'Burnley', 'Away Team': 'Brighton', 'Odds 1': '3.75', 'Odds X': '3.89', 'Odds 2': '1.96'}\n",
      "{'Date': '13/04/2024', 'Home Team': 'Manchester City', 'Away Team': 'Luton', 'Odds 1': '1.09', 'Odds X': '12.83', 'Odds 2': '24.96'}\n",
      "{'Date': '13/04/2024', 'Home Team': 'Nottingham', 'Away Team': 'Wolves', 'Odds 1': '2.25', 'Odds X': '3.55', 'Odds 2': '3.23'}\n",
      "{'Date': '13/04/2024', 'Home Team': 'Bournemouth', 'Away Team': 'Manchester Utd', 'Odds 1': '2.45', 'Odds X': '3.93', 'Odds 2': '2.69'}\n",
      "{'Date': '14/04/2024', 'Home Team': 'Liverpool', 'Away Team': 'Crystal Palace', 'Odds 1': '1.24', 'Odds X': '7.04', 'Odds 2': '11.69'}\n",
      "{'Date': '14/04/2024', 'Home Team': 'West Ham', 'Away Team': 'Fulham', 'Odds 1': '2.32', 'Odds X': '3.71', 'Odds 2': '2.99'}\n",
      "{'Date': '14/04/2024', 'Home Team': 'Arsenal', 'Away Team': 'Aston Villa', 'Odds 1': '1.28', 'Odds X': '6.49', 'Odds 2': '10.36'}\n",
      "{'Date': '15/04/2024', 'Home Team': 'Chelsea', 'Away Team': 'Everton', 'Odds 1': '1.67', 'Odds X': '4.24', 'Odds 2': '4.91'}\n",
      "{'Date': '20/04/2024', 'Home Team': 'Luton', 'Away Team': 'Brentford', 'Odds 1': '2.81', 'Odds X': '3.73', 'Odds 2': '2.41'}\n",
      "{'Date': '20/04/2024', 'Home Team': 'Sheffield Utd', 'Away Team': 'Burnley', 'Odds 1': '2.86', 'Odds X': '3.58', 'Odds 2': '2.43'}\n",
      "{'Date': '20/04/2024', 'Home Team': 'Wolves', 'Away Team': 'Arsenal', 'Odds 1': '7.63', 'Odds X': '5.03', 'Odds 2': '1.41'}\n",
      "{'Date': '21/04/2024', 'Home Team': 'Everton', 'Away Team': 'Nottingham', 'Odds 1': '1.87', 'Odds X': '3.80', 'Odds 2': '4.14'}\n",
      "{'Date': '21/04/2024', 'Home Team': 'Aston Villa', 'Away Team': 'Bournemouth', 'Odds 1': '1.83', 'Odds X': '4.19', 'Odds 2': '3.95'}\n",
      "{'Date': '21/04/2024', 'Home Team': 'Crystal Palace', 'Away Team': 'West Ham', 'Odds 1': '2.46', 'Odds X': '3.46', 'Odds 2': '2.91'}\n",
      "{'Date': '21/04/2024', 'Home Team': 'Fulham', 'Away Team': 'Liverpool', 'Odds 1': '5.03', 'Odds X': '4.53', 'Odds 2': '1.61'}\n",
      "{'Date': '23/04/2024', 'Home Team': 'Arsenal', 'Away Team': 'Chelsea', 'Odds 1': '-', 'Odds X': '-', 'Odds 2': '-'}\n",
      "{'Date': '24/04/2024', 'Home Team': 'Wolves', 'Away Team': 'Bournemouth', 'Odds 1': '-', 'Odds X': '-', 'Odds 2': '-'}\n",
      "{'Date': '24/04/2024', 'Home Team': 'Crystal Palace', 'Away Team': 'Newcastle', 'Odds 1': '-', 'Odds X': '-', 'Odds 2': '-'}\n",
      "{'Date': '12/04/2024', 'Home Team': 'Metz', 'Away Team': 'Lens', 'Odds 1': '4.44', 'Odds X': '3.70', 'Odds 2': '1.84'}\n",
      "{'Date': '13/04/2024', 'Home Team': 'Strasbourg', 'Away Team': 'Reims', 'Odds 1': '2.71', 'Odds X': '3.39', 'Odds 2': '2.67'}\n",
      "{'Date': '13/04/2024', 'Home Team': 'Rennes', 'Away Team': 'Toulouse', 'Odds 1': '1.87', 'Odds X': '3.71', 'Odds 2': '4.27'}\n",
      "{'Date': '14/04/2024', 'Home Team': 'Le Havre', 'Away Team': 'Nantes', 'Odds 1': '2.53', 'Odds X': '3.09', 'Odds 2': '3.14'}\n",
      "{'Date': '14/04/2024', 'Home Team': 'Clermont', 'Away Team': 'Montpellier', 'Odds 1': '3.34', 'Odds X': '3.57', 'Odds 2': '2.18'}\n",
      "{'Date': '14/04/2024', 'Home Team': 'Lyon', 'Away Team': 'Brest', 'Odds 1': '2.26', 'Odds X': '3.38', 'Odds 2': '3.33'}\n",
      "{'Date': '19/04/2024', 'Home Team': 'Nice', 'Away Team': 'Lorient', 'Odds 1': '1.50', 'Odds X': '4.30', 'Odds 2': '6.77'}\n",
      "{'Date': '20/04/2024', 'Home Team': 'Nantes', 'Away Team': 'Rennes', 'Odds 1': '3.15', 'Odds X': '3.31', 'Odds 2': '2.36'}\n",
      "{'Date': '20/04/2024', 'Home Team': 'Lens', 'Away Team': 'Clermont', 'Odds 1': '1.43', 'Odds X': '4.48', 'Odds 2': '8.02'}\n",
      "{'Date': '21/04/2024', 'Home Team': 'Le Havre', 'Away Team': 'Metz', 'Odds 1': '2.07', 'Odds X': '3.30', 'Odds 2': '3.84'}\n",
      "{'Date': '21/04/2024', 'Home Team': 'Lille', 'Away Team': 'Strasbourg', 'Odds 1': '1.58', 'Odds X': '4.10', 'Odds 2': '5.82'}\n",
      "{'Date': '21/04/2024', 'Home Team': 'Reims', 'Away Team': 'Montpellier', 'Odds 1': '1.87', 'Odds X': '3.82', 'Odds 2': '4.01'}\n",
      "{'Date': '21/04/2024', 'Home Team': 'Brest', 'Away Team': 'Monaco', 'Odds 1': '2.65', 'Odds X': '3.39', 'Odds 2': '2.68'}\n",
      "{'Date': '21/04/2024', 'Home Team': 'Toulouse', 'Away Team': 'Marseille', 'Odds 1': '3.17', 'Odds X': '3.44', 'Odds 2': '2.28'}\n",
      "{'Date': '21/04/2024', 'Home Team': 'PSG', 'Away Team': 'Lyon', 'Odds 1': '1.39', 'Odds X': '5.31', 'Odds 2': '7.31'}\n",
      "Not enough odds data available for this match.\n",
      "{'Date': '28/04/2024', 'Home Team': 'Clermont', 'Away Team': 'Reims', 'Odds 1': 0, 'Odds X': 0, 'Odds 2': 0}\n"
     ]
    }
   ],
   "source": [
    "from scrap_bookmakers_odds import scrapOdds\n",
    "scrapOdds()"
   ]
  },
  {
   "cell_type": "markdown",
   "metadata": {},
   "source": [
    "### Archive Datas"
   ]
  },
  {
   "cell_type": "code",
   "execution_count": 3,
   "metadata": {},
   "outputs": [],
   "source": [
    "from archive_datas_source import *\n",
    "createDataArchive()"
   ]
  },
  {
   "cell_type": "markdown",
   "metadata": {},
   "source": [
    "## Pre-processing datas"
   ]
  },
  {
   "cell_type": "code",
   "execution_count": 4,
   "metadata": {},
   "outputs": [],
   "source": [
    "from data_preprocessing_matches import *\n",
    "preProcessingPipeline()"
   ]
  },
  {
   "cell_type": "markdown",
   "metadata": {},
   "source": [
    "## Train Models"
   ]
  },
  {
   "cell_type": "code",
   "execution_count": 5,
   "metadata": {},
   "outputs": [],
   "source": [
    "import sys\n",
    "sys.path.append('../mlflow/')"
   ]
  },
  {
   "cell_type": "code",
   "execution_count": 6,
   "metadata": {},
   "outputs": [
    {
     "name": "stderr",
     "output_type": "stream",
     "text": [
      "/home/guillaume/OneDrive/Developpement/repo/nov23_continu_mlops_paris_sportifs/.venv/lib/python3.10/site-packages/mlflow/types/utils.py:393: UserWarning: Hint: Inferred schema contains integer column(s). Integer columns in Python cannot represent missing values. If your input data contains missing values at inference time, it will be encoded as floats and will cause a schema enforcement error. The best way to avoid this problem is to infer the model schema based on a realistic data sample (training dataset) that includes missing values. Alternatively, you can declare integer columns as doubles (float64) whenever these columns may have missing values. See `Handling Integers With Missing Values <https://www.mlflow.org/docs/latest/models.html#handling-integers-with-missing-values>`_ for more details.\n",
      "  warnings.warn(\n",
      "/home/guillaume/OneDrive/Developpement/repo/nov23_continu_mlops_paris_sportifs/.venv/lib/python3.10/site-packages/mlflow/types/utils.py:393: UserWarning: Hint: Inferred schema contains integer column(s). Integer columns in Python cannot represent missing values. If your input data contains missing values at inference time, it will be encoded as floats and will cause a schema enforcement error. The best way to avoid this problem is to infer the model schema based on a realistic data sample (training dataset) that includes missing values. Alternatively, you can declare integer columns as doubles (float64) whenever these columns may have missing values. See `Handling Integers With Missing Values <https://www.mlflow.org/docs/latest/models.html#handling-integers-with-missing-values>`_ for more details.\n",
      "  warnings.warn(\n",
      "Registered model 'English Premier League_svc' already exists. Creating a new version of this model...\n",
      "Created version '4' of model 'English Premier League_svc'.\n",
      "/home/guillaume/OneDrive/Developpement/repo/nov23_continu_mlops_paris_sportifs/.venv/lib/python3.10/site-packages/mlflow/types/utils.py:393: UserWarning: Hint: Inferred schema contains integer column(s). Integer columns in Python cannot represent missing values. If your input data contains missing values at inference time, it will be encoded as floats and will cause a schema enforcement error. The best way to avoid this problem is to infer the model schema based on a realistic data sample (training dataset) that includes missing values. Alternatively, you can declare integer columns as doubles (float64) whenever these columns may have missing values. See `Handling Integers With Missing Values <https://www.mlflow.org/docs/latest/models.html#handling-integers-with-missing-values>`_ for more details.\n",
      "  warnings.warn(\n",
      "/home/guillaume/OneDrive/Developpement/repo/nov23_continu_mlops_paris_sportifs/.venv/lib/python3.10/site-packages/mlflow/types/utils.py:393: UserWarning: Hint: Inferred schema contains integer column(s). Integer columns in Python cannot represent missing values. If your input data contains missing values at inference time, it will be encoded as floats and will cause a schema enforcement error. The best way to avoid this problem is to infer the model schema based on a realistic data sample (training dataset) that includes missing values. Alternatively, you can declare integer columns as doubles (float64) whenever these columns may have missing values. See `Handling Integers With Missing Values <https://www.mlflow.org/docs/latest/models.html#handling-integers-with-missing-values>`_ for more details.\n",
      "  warnings.warn(\n",
      "/home/guillaume/OneDrive/Developpement/repo/nov23_continu_mlops_paris_sportifs/.venv/lib/python3.10/site-packages/_distutils_hack/__init__.py:11: UserWarning: Distutils was imported before Setuptools, but importing Setuptools also replaces the `distutils` module in `sys.modules`. This may lead to undesirable behaviors or errors. To avoid these issues, avoid using distutils directly, ensure that setuptools is installed in the traditional way (e.g. not an editable install), and/or make sure that setuptools is always imported before distutils.\n",
      "  warnings.warn(\n",
      "/home/guillaume/OneDrive/Developpement/repo/nov23_continu_mlops_paris_sportifs/.venv/lib/python3.10/site-packages/_distutils_hack/__init__.py:26: UserWarning: Setuptools is replacing distutils.\n",
      "  warnings.warn(\"Setuptools is replacing distutils.\")\n",
      "Registered model 'France Ligue 1_svc' already exists. Creating a new version of this model...\n",
      "Created version '4' of model 'France Ligue 1_svc'.\n"
     ]
    },
    {
     "data": {
      "image/png": "[encoded data removed]",
      "text/plain": [
       "<Figure size 640x480 with 2 Axes>"
      ]
     },
     "metadata": {},
     "output_type": "display_data"
    },
    {
     "data": {
      "image/png": "[encoded data removed]",
      "text/plain": [
       "<Figure size 640x480 with 2 Axes>"
      ]
     },
     "metadata": {},
     "output_type": "display_data"
    }
   ],
   "source": [
    "# This will execute the experiment (mlruns) and save the results in the mlruns folder (storage)\n",
    "from experiment import *"
   ]
  },
  {
   "cell_type": "markdown",
   "metadata": {},
   "source": [
    "## Model Registry"
   ]
  },
  {
   "cell_type": "code",
   "execution_count": 2,
   "metadata": {},
   "outputs": [],
   "source": [
    "import sys\n",
    "sys.path.append('../mlflow/')"
   ]
  },
  {
   "cell_type": "code",
   "execution_count": 3,
   "metadata": {},
   "outputs": [],
   "source": [
    "# This will execute the model_registry (model gestion) and save the best models in the storage\n",
    "from model_registry import *"
   ]
  },
  {
   "cell_type": "markdown",
   "metadata": {},
   "source": [
    "## Predictions"
   ]
  },
  {
   "cell_type": "markdown",
   "metadata": {},
   "source": [
    "### Manual Predictions"
   ]
  },
  {
   "cell_type": "code",
   "execution_count": 9,
   "metadata": {},
   "outputs": [],
   "source": [
    "championship = \"English Premier League\"\n",
    "home_team = \"Arsenal\"\n",
    "away_team = \"West Ham\"\n",
    "user_role = 1\n",
    "user_bankroll = 100\n",
    "user_risk_aversion = \"medium\"\n",
    "odds = [1.5, 3.5, 2.5]"
   ]
  },
  {
   "cell_type": "code",
   "execution_count": 10,
   "metadata": {},
   "outputs": [
    {
     "data": {
      "text/plain": [
       "{'Home': 0.6443736829906547,\n",
       " 'Draw': 0.2863653003897318,\n",
       " 'Away': 0.06926101661961331}"
      ]
     },
     "execution_count": 10,
     "metadata": {},
     "output_type": "execute_result"
    }
   ],
   "source": [
    "from model_predictions import *\n",
    "getModelPredictions(championship, home_team, away_team)"
   ]
  },
  {
   "cell_type": "markdown",
   "metadata": {},
   "source": [
    "### Add predictions to calendar"
   ]
  },
  {
   "cell_type": "code",
   "execution_count": 7,
   "metadata": {},
   "outputs": [],
   "source": [
    "from model_predictions import *\n",
    "getPredictionsOnCalendar()"
   ]
  },
  {
   "cell_type": "code",
   "execution_count": 10,
   "metadata": {},
   "outputs": [],
   "source": [
    "#championship = 'English Premier League'\n",
    "championship = 'France Ligue 1'\n"
   ]
  },
  {
   "cell_type": "code",
   "execution_count": 11,
   "metadata": {},
   "outputs": [
    {
     "data": {
      "text/html": [
       "<div>\n",
       "<style scoped>\n",
       "    .dataframe tbody tr th:only-of-type {\n",
       "        vertical-align: middle;\n",
       "    }\n",
       "\n",
       "    .dataframe tbody tr th {\n",
       "        vertical-align: top;\n",
       "    }\n",
       "\n",
       "    .dataframe thead th {\n",
       "        text-align: right;\n",
       "    }\n",
       "</style>\n",
       "<table border=\"1\" class=\"dataframe\">\n",
       "  <thead>\n",
       "    <tr style=\"text-align: right;\">\n",
       "      <th></th>\n",
       "      <th>Date</th>\n",
       "      <th>HomeTeam</th>\n",
       "      <th>AwayTeam</th>\n",
       "      <th>Avg_H</th>\n",
       "      <th>Avg_D</th>\n",
       "      <th>Avg_A</th>\n",
       "      <th>pred_home</th>\n",
       "      <th>pred_draw</th>\n",
       "      <th>pred_away</th>\n",
       "    </tr>\n",
       "  </thead>\n",
       "  <tbody>\n",
       "    <tr>\n",
       "      <th>0</th>\n",
       "      <td>12/04/2024</td>\n",
       "      <td>Metz</td>\n",
       "      <td>Lens</td>\n",
       "      <td>4.44</td>\n",
       "      <td>3.70</td>\n",
       "      <td>1.84</td>\n",
       "      <td>0.12</td>\n",
       "      <td>0.22</td>\n",
       "      <td>0.66</td>\n",
       "    </tr>\n",
       "    <tr>\n",
       "      <th>1</th>\n",
       "      <td>13/04/2024</td>\n",
       "      <td>Strasbourg</td>\n",
       "      <td>Reims</td>\n",
       "      <td>2.71</td>\n",
       "      <td>3.39</td>\n",
       "      <td>2.67</td>\n",
       "      <td>0.32</td>\n",
       "      <td>0.26</td>\n",
       "      <td>0.42</td>\n",
       "    </tr>\n",
       "    <tr>\n",
       "      <th>2</th>\n",
       "      <td>13/04/2024</td>\n",
       "      <td>Rennes</td>\n",
       "      <td>Toulouse</td>\n",
       "      <td>1.87</td>\n",
       "      <td>3.71</td>\n",
       "      <td>4.27</td>\n",
       "      <td>0.55</td>\n",
       "      <td>0.30</td>\n",
       "      <td>0.16</td>\n",
       "    </tr>\n",
       "    <tr>\n",
       "      <th>3</th>\n",
       "      <td>14/04/2024</td>\n",
       "      <td>Le Havre</td>\n",
       "      <td>Nantes</td>\n",
       "      <td>2.53</td>\n",
       "      <td>3.09</td>\n",
       "      <td>3.14</td>\n",
       "      <td>0.40</td>\n",
       "      <td>0.22</td>\n",
       "      <td>0.39</td>\n",
       "    </tr>\n",
       "    <tr>\n",
       "      <th>4</th>\n",
       "      <td>14/04/2024</td>\n",
       "      <td>Clermont</td>\n",
       "      <td>Montpellier</td>\n",
       "      <td>3.34</td>\n",
       "      <td>3.57</td>\n",
       "      <td>2.18</td>\n",
       "      <td>0.15</td>\n",
       "      <td>0.24</td>\n",
       "      <td>0.61</td>\n",
       "    </tr>\n",
       "  </tbody>\n",
       "</table>\n",
       "</div>"
      ],
      "text/plain": [
       "         Date    HomeTeam     AwayTeam  Avg_H  Avg_D  Avg_A  pred_home  \\\n",
       "0  12/04/2024        Metz         Lens   4.44   3.70   1.84       0.12   \n",
       "1  13/04/2024  Strasbourg        Reims   2.71   3.39   2.67       0.32   \n",
       "2  13/04/2024      Rennes     Toulouse   1.87   3.71   4.27       0.55   \n",
       "3  14/04/2024    Le Havre       Nantes   2.53   3.09   3.14       0.40   \n",
       "4  14/04/2024    Clermont  Montpellier   3.34   3.57   2.18       0.15   \n",
       "\n",
       "   pred_draw  pred_away  \n",
       "0       0.22       0.66  \n",
       "1       0.26       0.42  \n",
       "2       0.30       0.16  \n",
       "3       0.22       0.39  \n",
       "4       0.24       0.61  "
      ]
     },
     "execution_count": 11,
     "metadata": {},
     "output_type": "execute_result"
    }
   ],
   "source": [
    "import pandas as pd\n",
    "df = pd.read_csv (f\"../../storage/data/clean/{championship}/odds.csv\")\n",
    "df.head(5)"
   ]
  },
  {
   "cell_type": "markdown",
   "metadata": {},
   "source": [
    "### Update match history"
   ]
  },
  {
   "cell_type": "code",
   "execution_count": null,
   "metadata": {},
   "outputs": [],
   "source": [
    "from model_predictions import *\n",
    "# Function not implemented (see last line of model_predictions.py)\n",
    "from common_variables import path_data_clean, championships\n",
    "for championship in championships:\n",
    "    createMatchHistoryWithPredictions(championship, path_data_clean)"
   ]
  },
  {
   "cell_type": "code",
   "execution_count": 13,
   "metadata": {},
   "outputs": [],
   "source": [
    "from model_predictions import *\n",
    "result_probabilities = [0.65, 0.25, 0.1]\n",
    "user_bankroll = 250\n",
    "user_risk_aversion = \"medium\"\n",
    "odds = [1.7, 3.5, 2.3]"
   ]
  },
  {
   "cell_type": "code",
   "execution_count": 14,
   "metadata": {},
   "outputs": [
    {
     "data": {
      "text/plain": [
       "37.5"
      ]
     },
     "execution_count": 14,
     "metadata": {},
     "output_type": "execute_result"
    }
   ],
   "source": [
    "generateBetAdvises(result_probabilities, user_bankroll, user_risk_aversion, odds)"
   ]
  }
 ],
 "metadata": {
  "kernelspec": {
   "display_name": "base",
   "language": "python",
   "name": "python3"
  },
  "language_info": {
   "codemirror_mode": {
    "name": "ipython",
    "version": 3
   },
   "file_extension": ".py",
   "mimetype": "text/x-python",
   "name": "python",
   "nbconvert_exporter": "python",
   "pygments_lexer": "ipython3",
   "version": "3.10.12"
  }
 },
 "nbformat": 4,
 "nbformat_minor": 2
}
